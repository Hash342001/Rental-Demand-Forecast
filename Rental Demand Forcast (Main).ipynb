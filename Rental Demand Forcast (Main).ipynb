{
 "cells": [
  {
   "cell_type": "code",
   "execution_count": 386,
   "id": "b344d91b-db52-4c5e-83ce-5dcb46b8b936",
   "metadata": {
    "tags": []
   },
   "outputs": [],
   "source": [
    "#First we will import important libraries\n",
    "import pandas as pd\n",
    "import numpy as np\n",
    "import matplotlib.pyplot as plt\n",
    "%matplotlib inline\n",
    "import seaborn as sn\n",
    "from datetime import datetime\n",
    "from datetime import date\n",
    "import calendar"
   ]
  },
  {
   "cell_type": "markdown",
   "id": "eec0d40a-f9bf-4e5a-8ec1-c5a5c2164485",
   "metadata": {},
   "source": [
    "# Reading the Data"
   ]
  },
  {
   "cell_type": "code",
   "execution_count": 387,
   "id": "54402153-4706-41d9-a9b7-cb79226b7ca3",
   "metadata": {},
   "outputs": [],
   "source": [
    "#Loading data\n",
    "train = pd.read_csv(\"train.csv\")\n",
    "test = pd.read_csv(\"test.csv\")"
   ]
  },
  {
   "cell_type": "markdown",
   "id": "f4c5d3c0-30a5-4da7-8652-cd622bb33f78",
   "metadata": {},
   "source": [
    "# Variable Identification\n",
    "Now we will use Variable Identification to see the dimensions, columns, d_types, first few rows, predictal and traget variables from the dataset."
   ]
  },
  {
   "cell_type": "code",
   "execution_count": 388,
   "id": "3878eb24-c3a0-41f4-9c8a-cb4cd12b32f4",
   "metadata": {},
   "outputs": [
    {
     "data": {
      "text/plain": [
       "((12980, 12), (4399, 11))"
      ]
     },
     "execution_count": 388,
     "metadata": {},
     "output_type": "execute_result"
    }
   ],
   "source": [
    "#Dimensions\n",
    "train.shape,test.shape"
   ]
  },
  {
   "cell_type": "markdown",
   "id": "d175314a-d44a-40fc-8de6-2f464224c8c2",
   "metadata": {},
   "source": [
    "According to these Dimensions, there are 12 columns in the \"train\" dataset and 11 columns in \"test\" dataset, which depicts that the Target Variable may be missing from the \"test\" dataset."
   ]
  },
  {
   "cell_type": "code",
   "execution_count": 389,
   "id": "6694d7e9-d776-4dae-a022-d6742b256e76",
   "metadata": {},
   "outputs": [
    {
     "data": {
      "text/plain": [
       "Index(['datetime', 'season', 'holiday', 'workingday', 'weather', 'temp',\n",
       "       'atemp', 'humidity', 'windspeed', 'casual', 'registered', 'count'],\n",
       "      dtype='object')"
      ]
     },
     "execution_count": 389,
     "metadata": {},
     "output_type": "execute_result"
    }
   ],
   "source": [
    "#Cloumn Names\n",
    "train.columns"
   ]
  },
  {
   "cell_type": "code",
   "execution_count": 390,
   "id": "d0ce6412-0989-4878-a8d5-88d1cfa7b337",
   "metadata": {},
   "outputs": [
    {
     "data": {
      "text/plain": [
       "Index(['datetime', 'season', 'holiday', 'workingday', 'weather', 'temp',\n",
       "       'atemp', 'humidity', 'windspeed', 'casual', 'registered'],\n",
       "      dtype='object')"
      ]
     },
     "execution_count": 390,
     "metadata": {},
     "output_type": "execute_result"
    }
   ],
   "source": [
    "test.columns"
   ]
  },
  {
   "cell_type": "markdown",
   "id": "d3e54620-fce4-4536-a88c-5c01493b7fae",
   "metadata": {},
   "source": [
    "It turns out to be true that the Target Variable i.e. \"count\" is missing from the \"test\" datset."
   ]
  },
  {
   "cell_type": "code",
   "execution_count": 391,
   "id": "51396165-e2ff-41c7-81b5-5668fb4bae96",
   "metadata": {},
   "outputs": [
    {
     "data": {
      "text/plain": [
       "datetime       object\n",
       "season          int64\n",
       "holiday         int64\n",
       "workingday      int64\n",
       "weather         int64\n",
       "temp          float64\n",
       "atemp         float64\n",
       "humidity      float64\n",
       "windspeed     float64\n",
       "casual          int64\n",
       "registered      int64\n",
       "count           int64\n",
       "dtype: object"
      ]
     },
     "execution_count": 391,
     "metadata": {},
     "output_type": "execute_result"
    }
   ],
   "source": [
    "#Data Types\n",
    "train.dtypes"
   ]
  },
  {
   "cell_type": "code",
   "execution_count": 392,
   "id": "5490bdcc-d202-4f5c-a8f4-a971cd0a8e9d",
   "metadata": {
    "tags": []
   },
   "outputs": [
    {
     "data": {
      "text/plain": [
       "datetime       object\n",
       "season          int64\n",
       "holiday         int64\n",
       "workingday      int64\n",
       "weather         int64\n",
       "temp          float64\n",
       "atemp         float64\n",
       "humidity      float64\n",
       "windspeed     float64\n",
       "casual          int64\n",
       "registered      int64\n",
       "dtype: object"
      ]
     },
     "execution_count": 392,
     "metadata": {},
     "output_type": "execute_result"
    }
   ],
   "source": [
    "test.dtypes"
   ]
  },
  {
   "cell_type": "markdown",
   "id": "06bb02b3-a5bd-44a3-8d34-a357ee12e85a",
   "metadata": {},
   "source": [
    "According to these dtypes, only \"datetime\" columns is a 'object' Datatype and all others are either 'Integers' or 'Float'. So, we may need to extract features from the \"datetime\" column which we will do later in the Variable Tranformation Section."
   ]
  },
  {
   "cell_type": "code",
   "execution_count": 393,
   "id": "30b4918f-f1b7-4611-a160-c161e9586dd9",
   "metadata": {},
   "outputs": [
    {
     "data": {
      "text/html": [
       "<div>\n",
       "<style scoped>\n",
       "    .dataframe tbody tr th:only-of-type {\n",
       "        vertical-align: middle;\n",
       "    }\n",
       "\n",
       "    .dataframe tbody tr th {\n",
       "        vertical-align: top;\n",
       "    }\n",
       "\n",
       "    .dataframe thead th {\n",
       "        text-align: right;\n",
       "    }\n",
       "</style>\n",
       "<table border=\"1\" class=\"dataframe\">\n",
       "  <thead>\n",
       "    <tr style=\"text-align: right;\">\n",
       "      <th></th>\n",
       "      <th>datetime</th>\n",
       "      <th>season</th>\n",
       "      <th>holiday</th>\n",
       "      <th>workingday</th>\n",
       "      <th>weather</th>\n",
       "      <th>temp</th>\n",
       "      <th>atemp</th>\n",
       "      <th>humidity</th>\n",
       "      <th>windspeed</th>\n",
       "      <th>casual</th>\n",
       "      <th>registered</th>\n",
       "      <th>count</th>\n",
       "    </tr>\n",
       "  </thead>\n",
       "  <tbody>\n",
       "    <tr>\n",
       "      <th>0</th>\n",
       "      <td>2011-01-01 0:00:00</td>\n",
       "      <td>1</td>\n",
       "      <td>0</td>\n",
       "      <td>0</td>\n",
       "      <td>1</td>\n",
       "      <td>9.84</td>\n",
       "      <td>14.395</td>\n",
       "      <td>81.0</td>\n",
       "      <td>0.0</td>\n",
       "      <td>3</td>\n",
       "      <td>13</td>\n",
       "      <td>16</td>\n",
       "    </tr>\n",
       "    <tr>\n",
       "      <th>1</th>\n",
       "      <td>2011-01-01 1:00:00</td>\n",
       "      <td>1</td>\n",
       "      <td>0</td>\n",
       "      <td>0</td>\n",
       "      <td>1</td>\n",
       "      <td>9.02</td>\n",
       "      <td>13.635</td>\n",
       "      <td>80.0</td>\n",
       "      <td>0.0</td>\n",
       "      <td>8</td>\n",
       "      <td>32</td>\n",
       "      <td>40</td>\n",
       "    </tr>\n",
       "    <tr>\n",
       "      <th>2</th>\n",
       "      <td>2011-01-01 2:00:00</td>\n",
       "      <td>1</td>\n",
       "      <td>0</td>\n",
       "      <td>0</td>\n",
       "      <td>1</td>\n",
       "      <td>9.02</td>\n",
       "      <td>13.635</td>\n",
       "      <td>80.0</td>\n",
       "      <td>0.0</td>\n",
       "      <td>5</td>\n",
       "      <td>27</td>\n",
       "      <td>32</td>\n",
       "    </tr>\n",
       "    <tr>\n",
       "      <th>3</th>\n",
       "      <td>2011-01-01 3:00:00</td>\n",
       "      <td>1</td>\n",
       "      <td>0</td>\n",
       "      <td>0</td>\n",
       "      <td>1</td>\n",
       "      <td>9.84</td>\n",
       "      <td>14.395</td>\n",
       "      <td>75.0</td>\n",
       "      <td>0.0</td>\n",
       "      <td>3</td>\n",
       "      <td>10</td>\n",
       "      <td>13</td>\n",
       "    </tr>\n",
       "    <tr>\n",
       "      <th>4</th>\n",
       "      <td>2011-01-01 4:00:00</td>\n",
       "      <td>1</td>\n",
       "      <td>0</td>\n",
       "      <td>0</td>\n",
       "      <td>1</td>\n",
       "      <td>9.84</td>\n",
       "      <td>14.395</td>\n",
       "      <td>75.0</td>\n",
       "      <td>0.0</td>\n",
       "      <td>0</td>\n",
       "      <td>1</td>\n",
       "      <td>1</td>\n",
       "    </tr>\n",
       "  </tbody>\n",
       "</table>\n",
       "</div>"
      ],
      "text/plain": [
       "             datetime  season  holiday  workingday  weather  temp   atemp  \\\n",
       "0  2011-01-01 0:00:00       1        0           0        1  9.84  14.395   \n",
       "1  2011-01-01 1:00:00       1        0           0        1  9.02  13.635   \n",
       "2  2011-01-01 2:00:00       1        0           0        1  9.02  13.635   \n",
       "3  2011-01-01 3:00:00       1        0           0        1  9.84  14.395   \n",
       "4  2011-01-01 4:00:00       1        0           0        1  9.84  14.395   \n",
       "\n",
       "   humidity  windspeed  casual  registered  count  \n",
       "0      81.0        0.0       3          13     16  \n",
       "1      80.0        0.0       8          32     40  \n",
       "2      80.0        0.0       5          27     32  \n",
       "3      75.0        0.0       3          10     13  \n",
       "4      75.0        0.0       0           1      1  "
      ]
     },
     "execution_count": 393,
     "metadata": {},
     "output_type": "execute_result"
    }
   ],
   "source": [
    "#First Few Rows\n",
    "train.head()"
   ]
  },
  {
   "cell_type": "code",
   "execution_count": 394,
   "id": "158d1c2a-b635-4983-a663-c4a4d7f80e86",
   "metadata": {},
   "outputs": [
    {
     "data": {
      "text/html": [
       "<div>\n",
       "<style scoped>\n",
       "    .dataframe tbody tr th:only-of-type {\n",
       "        vertical-align: middle;\n",
       "    }\n",
       "\n",
       "    .dataframe tbody tr th {\n",
       "        vertical-align: top;\n",
       "    }\n",
       "\n",
       "    .dataframe thead th {\n",
       "        text-align: right;\n",
       "    }\n",
       "</style>\n",
       "<table border=\"1\" class=\"dataframe\">\n",
       "  <thead>\n",
       "    <tr style=\"text-align: right;\">\n",
       "      <th></th>\n",
       "      <th>datetime</th>\n",
       "      <th>season</th>\n",
       "      <th>holiday</th>\n",
       "      <th>workingday</th>\n",
       "      <th>weather</th>\n",
       "      <th>temp</th>\n",
       "      <th>atemp</th>\n",
       "      <th>humidity</th>\n",
       "      <th>windspeed</th>\n",
       "      <th>casual</th>\n",
       "      <th>registered</th>\n",
       "    </tr>\n",
       "  </thead>\n",
       "  <tbody>\n",
       "    <tr>\n",
       "      <th>0</th>\n",
       "      <td>2012-06-30 1:00:00</td>\n",
       "      <td>3</td>\n",
       "      <td>0</td>\n",
       "      <td>0</td>\n",
       "      <td>3</td>\n",
       "      <td>26.24</td>\n",
       "      <td>28.790</td>\n",
       "      <td>89.0</td>\n",
       "      <td>15.0013</td>\n",
       "      <td>3</td>\n",
       "      <td>55</td>\n",
       "    </tr>\n",
       "    <tr>\n",
       "      <th>1</th>\n",
       "      <td>2012-06-30 2:00:00</td>\n",
       "      <td>3</td>\n",
       "      <td>0</td>\n",
       "      <td>0</td>\n",
       "      <td>2</td>\n",
       "      <td>26.24</td>\n",
       "      <td>28.790</td>\n",
       "      <td>89.0</td>\n",
       "      <td>0.0000</td>\n",
       "      <td>7</td>\n",
       "      <td>54</td>\n",
       "    </tr>\n",
       "    <tr>\n",
       "      <th>2</th>\n",
       "      <td>2012-06-30 3:00:00</td>\n",
       "      <td>3</td>\n",
       "      <td>0</td>\n",
       "      <td>0</td>\n",
       "      <td>2</td>\n",
       "      <td>26.24</td>\n",
       "      <td>28.790</td>\n",
       "      <td>89.0</td>\n",
       "      <td>0.0000</td>\n",
       "      <td>3</td>\n",
       "      <td>20</td>\n",
       "    </tr>\n",
       "    <tr>\n",
       "      <th>3</th>\n",
       "      <td>2012-06-30 4:00:00</td>\n",
       "      <td>3</td>\n",
       "      <td>0</td>\n",
       "      <td>0</td>\n",
       "      <td>2</td>\n",
       "      <td>25.42</td>\n",
       "      <td>27.275</td>\n",
       "      <td>94.0</td>\n",
       "      <td>0.0000</td>\n",
       "      <td>3</td>\n",
       "      <td>15</td>\n",
       "    </tr>\n",
       "    <tr>\n",
       "      <th>4</th>\n",
       "      <td>2012-06-30 5:00:00</td>\n",
       "      <td>3</td>\n",
       "      <td>0</td>\n",
       "      <td>0</td>\n",
       "      <td>1</td>\n",
       "      <td>26.24</td>\n",
       "      <td>28.790</td>\n",
       "      <td>89.0</td>\n",
       "      <td>11.0014</td>\n",
       "      <td>3</td>\n",
       "      <td>7</td>\n",
       "    </tr>\n",
       "  </tbody>\n",
       "</table>\n",
       "</div>"
      ],
      "text/plain": [
       "             datetime  season  holiday  workingday  weather   temp   atemp  \\\n",
       "0  2012-06-30 1:00:00       3        0           0        3  26.24  28.790   \n",
       "1  2012-06-30 2:00:00       3        0           0        2  26.24  28.790   \n",
       "2  2012-06-30 3:00:00       3        0           0        2  26.24  28.790   \n",
       "3  2012-06-30 4:00:00       3        0           0        2  25.42  27.275   \n",
       "4  2012-06-30 5:00:00       3        0           0        1  26.24  28.790   \n",
       "\n",
       "   humidity  windspeed  casual  registered  \n",
       "0      89.0    15.0013       3          55  \n",
       "1      89.0     0.0000       7          54  \n",
       "2      89.0     0.0000       3          20  \n",
       "3      94.0     0.0000       3          15  \n",
       "4      89.0    11.0014       3           7  "
      ]
     },
     "execution_count": 394,
     "metadata": {},
     "output_type": "execute_result"
    }
   ],
   "source": [
    "test.head()"
   ]
  },
  {
   "cell_type": "markdown",
   "id": "4e200bbd-1952-4f63-8fbc-1662e98fed33",
   "metadata": {},
   "source": [
    "Here we can see that there are 12 columns in the 'train' dataset, whereas in the 'test' dataset, there are only 11 columns.\n",
    "It is pretty clear that the \"count\" variable is the Target or Dependent Variable.\n",
    "Since, we have a Target Variable, this is a Supervised Learning Problem and the nature of the Target Variable is Continous, we will be using the Regrssion Method for creating a model."
   ]
  },
  {
   "cell_type": "markdown",
   "id": "eea4b927-e67f-4a45-8769-432703afe498",
   "metadata": {},
   "source": [
    "# Univariate Analysis\n",
    "Now that we have our Target Variable i.e. \"count\" and it is Countinous in nature, we will perform analysis using Graphical method in Univariate Analysis.\n"
   ]
  },
  {
   "cell_type": "code",
   "execution_count": 395,
   "id": "dcc283f8-4436-4a1a-98ae-ae6ff54017bf",
   "metadata": {},
   "outputs": [
    {
     "name": "stderr",
     "output_type": "stream",
     "text": [
      "C:\\Users\\Hashm\\anaconda3\\lib\\site-packages\\seaborn\\distributions.py:2619: FutureWarning: `distplot` is a deprecated function and will be removed in a future version. Please adapt your code to use either `displot` (a figure-level function with similar flexibility) or `histplot` (an axes-level function for histograms).\n",
      "  warnings.warn(msg, FutureWarning)\n"
     ]
    },
    {
     "data": {
      "text/plain": [
       "<AxesSubplot:xlabel='count', ylabel='Density'>"
      ]
     },
     "execution_count": 395,
     "metadata": {},
     "output_type": "execute_result"
    },
    {
     "data": {
      "image/png": "[encoded data removed]",
      "text/plain": [
       "<Figure size 432x288 with 1 Axes>"
      ]
     },
     "metadata": {
      "needs_background": "light"
     },
     "output_type": "display_data"
    }
   ],
   "source": [
    "#Distribution of the Target Variable\n",
    "sn.distplot(train[\"count\"])"
   ]
  },
  {
   "cell_type": "markdown",
   "id": "ec7cab0a-1242-4760-8291-11302f9d6090",
   "metadata": {},
   "source": [
    "The Graphical Distribution of the Target Variables is Right Skewed, so we will take the log of the variable and see if the distribution becomes normal."
   ]
  },
  {
   "cell_type": "code",
   "execution_count": 396,
   "id": "eda42d44-ce4e-4dee-a800-62ddecc48944",
   "metadata": {},
   "outputs": [
    {
     "name": "stderr",
     "output_type": "stream",
     "text": [
      "C:\\Users\\Hashm\\anaconda3\\lib\\site-packages\\seaborn\\distributions.py:2619: FutureWarning: `distplot` is a deprecated function and will be removed in a future version. Please adapt your code to use either `displot` (a figure-level function with similar flexibility) or `histplot` (an axes-level function for histograms).\n",
      "  warnings.warn(msg, FutureWarning)\n"
     ]
    },
    {
     "data": {
      "text/plain": [
       "<AxesSubplot:xlabel='count', ylabel='Density'>"
      ]
     },
     "execution_count": 396,
     "metadata": {},
     "output_type": "execute_result"
    },
    {
     "data": {
      "image/png": "[encoded data removed]",
      "text/plain": [
       "<Figure size 432x288 with 1 Axes>"
      ]
     },
     "metadata": {
      "needs_background": "light"
     },
     "output_type": "display_data"
    }
   ],
   "source": [
    "#Logged distribution of the Target Variable\n",
    "sn.distplot(np.log(train[\"count\"]))"
   ]
  },
  {
   "cell_type": "markdown",
   "id": "99c398e8-cfee-4962-8911-55857e21b10a",
   "metadata": {},
   "source": [
    "Now the distribution is less skewed and we can consider it as a normally distributed graph of the target variable."
   ]
  },
  {
   "cell_type": "markdown",
   "id": "ae888569-ca3b-4f5b-b50b-d0ba46ee2bc4",
   "metadata": {
    "tags": []
   },
   "source": [
    "# Bivariate Analysis\n",
    "We will analyse the realtion between the Independent and the Dependent Variables and see how Corelated they are with each other by using Bivariate Analysis and a HeatMap."
   ]
  },
  {
   "cell_type": "code",
   "execution_count": 397,
   "id": "bc1ecdcc-e192-4287-8d24-53a44def1e66",
   "metadata": {},
   "outputs": [
    {
     "data": {
      "text/html": [
       "<div>\n",
       "<style scoped>\n",
       "    .dataframe tbody tr th:only-of-type {\n",
       "        vertical-align: middle;\n",
       "    }\n",
       "\n",
       "    .dataframe tbody tr th {\n",
       "        vertical-align: top;\n",
       "    }\n",
       "\n",
       "    .dataframe thead th {\n",
       "        text-align: right;\n",
       "    }\n",
       "</style>\n",
       "<table border=\"1\" class=\"dataframe\">\n",
       "  <thead>\n",
       "    <tr style=\"text-align: right;\">\n",
       "      <th></th>\n",
       "      <th>season</th>\n",
       "      <th>holiday</th>\n",
       "      <th>workingday</th>\n",
       "      <th>weather</th>\n",
       "      <th>temp</th>\n",
       "      <th>atemp</th>\n",
       "      <th>humidity</th>\n",
       "      <th>windspeed</th>\n",
       "      <th>casual</th>\n",
       "      <th>registered</th>\n",
       "      <th>count</th>\n",
       "    </tr>\n",
       "  </thead>\n",
       "  <tbody>\n",
       "    <tr>\n",
       "      <th>season</th>\n",
       "      <td>1.000000</td>\n",
       "      <td>-0.010959</td>\n",
       "      <td>0.014343</td>\n",
       "      <td>-0.013005</td>\n",
       "      <td>0.394560</td>\n",
       "      <td>0.397765</td>\n",
       "      <td>0.181712</td>\n",
       "      <td>-0.135762</td>\n",
       "      <td>0.104657</td>\n",
       "      <td>0.085699</td>\n",
       "      <td>0.100687</td>\n",
       "    </tr>\n",
       "    <tr>\n",
       "      <th>holiday</th>\n",
       "      <td>-0.010959</td>\n",
       "      <td>1.000000</td>\n",
       "      <td>-0.248558</td>\n",
       "      <td>-0.018406</td>\n",
       "      <td>-0.025104</td>\n",
       "      <td>-0.032903</td>\n",
       "      <td>-0.029520</td>\n",
       "      <td>0.021646</td>\n",
       "      <td>0.029135</td>\n",
       "      <td>-0.046053</td>\n",
       "      <td>-0.029340</td>\n",
       "    </tr>\n",
       "    <tr>\n",
       "      <th>workingday</th>\n",
       "      <td>0.014343</td>\n",
       "      <td>-0.248558</td>\n",
       "      <td>1.000000</td>\n",
       "      <td>0.052788</td>\n",
       "      <td>0.060589</td>\n",
       "      <td>0.064840</td>\n",
       "      <td>0.028026</td>\n",
       "      <td>0.001986</td>\n",
       "      <td>-0.307930</td>\n",
       "      <td>0.131819</td>\n",
       "      <td>0.018842</td>\n",
       "    </tr>\n",
       "    <tr>\n",
       "      <th>weather</th>\n",
       "      <td>-0.013005</td>\n",
       "      <td>-0.018406</td>\n",
       "      <td>0.052788</td>\n",
       "      <td>1.000000</td>\n",
       "      <td>-0.093655</td>\n",
       "      <td>-0.094877</td>\n",
       "      <td>0.432497</td>\n",
       "      <td>0.011120</td>\n",
       "      <td>-0.161752</td>\n",
       "      <td>-0.139034</td>\n",
       "      <td>-0.161018</td>\n",
       "    </tr>\n",
       "    <tr>\n",
       "      <th>temp</th>\n",
       "      <td>0.394560</td>\n",
       "      <td>-0.025104</td>\n",
       "      <td>0.060589</td>\n",
       "      <td>-0.093655</td>\n",
       "      <td>1.000000</td>\n",
       "      <td>0.991839</td>\n",
       "      <td>-0.048478</td>\n",
       "      <td>-0.008669</td>\n",
       "      <td>0.459414</td>\n",
       "      <td>0.344451</td>\n",
       "      <td>0.415938</td>\n",
       "    </tr>\n",
       "    <tr>\n",
       "      <th>atemp</th>\n",
       "      <td>0.397765</td>\n",
       "      <td>-0.032903</td>\n",
       "      <td>0.064840</td>\n",
       "      <td>-0.094877</td>\n",
       "      <td>0.991839</td>\n",
       "      <td>1.000000</td>\n",
       "      <td>-0.031606</td>\n",
       "      <td>-0.049997</td>\n",
       "      <td>0.454015</td>\n",
       "      <td>0.342345</td>\n",
       "      <td>0.412644</td>\n",
       "    </tr>\n",
       "    <tr>\n",
       "      <th>humidity</th>\n",
       "      <td>0.181712</td>\n",
       "      <td>-0.029520</td>\n",
       "      <td>0.028026</td>\n",
       "      <td>0.432497</td>\n",
       "      <td>-0.048478</td>\n",
       "      <td>-0.031606</td>\n",
       "      <td>1.000000</td>\n",
       "      <td>-0.296975</td>\n",
       "      <td>-0.320253</td>\n",
       "      <td>-0.279501</td>\n",
       "      <td>-0.322269</td>\n",
       "    </tr>\n",
       "    <tr>\n",
       "      <th>windspeed</th>\n",
       "      <td>-0.135762</td>\n",
       "      <td>0.021646</td>\n",
       "      <td>0.001986</td>\n",
       "      <td>0.011120</td>\n",
       "      <td>-0.008669</td>\n",
       "      <td>-0.049997</td>\n",
       "      <td>-0.296975</td>\n",
       "      <td>1.000000</td>\n",
       "      <td>0.079524</td>\n",
       "      <td>0.100579</td>\n",
       "      <td>0.105607</td>\n",
       "    </tr>\n",
       "    <tr>\n",
       "      <th>casual</th>\n",
       "      <td>0.104657</td>\n",
       "      <td>0.029135</td>\n",
       "      <td>-0.307930</td>\n",
       "      <td>-0.161752</td>\n",
       "      <td>0.459414</td>\n",
       "      <td>0.454015</td>\n",
       "      <td>-0.320253</td>\n",
       "      <td>0.079524</td>\n",
       "      <td>1.000000</td>\n",
       "      <td>0.509175</td>\n",
       "      <td>0.707938</td>\n",
       "    </tr>\n",
       "    <tr>\n",
       "      <th>registered</th>\n",
       "      <td>0.085699</td>\n",
       "      <td>-0.046053</td>\n",
       "      <td>0.131819</td>\n",
       "      <td>-0.139034</td>\n",
       "      <td>0.344451</td>\n",
       "      <td>0.342345</td>\n",
       "      <td>-0.279501</td>\n",
       "      <td>0.100579</td>\n",
       "      <td>0.509175</td>\n",
       "      <td>1.000000</td>\n",
       "      <td>0.968329</td>\n",
       "    </tr>\n",
       "    <tr>\n",
       "      <th>count</th>\n",
       "      <td>0.100687</td>\n",
       "      <td>-0.029340</td>\n",
       "      <td>0.018842</td>\n",
       "      <td>-0.161018</td>\n",
       "      <td>0.415938</td>\n",
       "      <td>0.412644</td>\n",
       "      <td>-0.322269</td>\n",
       "      <td>0.105607</td>\n",
       "      <td>0.707938</td>\n",
       "      <td>0.968329</td>\n",
       "      <td>1.000000</td>\n",
       "    </tr>\n",
       "  </tbody>\n",
       "</table>\n",
       "</div>"
      ],
      "text/plain": [
       "              season   holiday  workingday   weather      temp     atemp  \\\n",
       "season      1.000000 -0.010959    0.014343 -0.013005  0.394560  0.397765   \n",
       "holiday    -0.010959  1.000000   -0.248558 -0.018406 -0.025104 -0.032903   \n",
       "workingday  0.014343 -0.248558    1.000000  0.052788  0.060589  0.064840   \n",
       "weather    -0.013005 -0.018406    0.052788  1.000000 -0.093655 -0.094877   \n",
       "temp        0.394560 -0.025104    0.060589 -0.093655  1.000000  0.991839   \n",
       "atemp       0.397765 -0.032903    0.064840 -0.094877  0.991839  1.000000   \n",
       "humidity    0.181712 -0.029520    0.028026  0.432497 -0.048478 -0.031606   \n",
       "windspeed  -0.135762  0.021646    0.001986  0.011120 -0.008669 -0.049997   \n",
       "casual      0.104657  0.029135   -0.307930 -0.161752  0.459414  0.454015   \n",
       "registered  0.085699 -0.046053    0.131819 -0.139034  0.344451  0.342345   \n",
       "count       0.100687 -0.029340    0.018842 -0.161018  0.415938  0.412644   \n",
       "\n",
       "            humidity  windspeed    casual  registered     count  \n",
       "season      0.181712  -0.135762  0.104657    0.085699  0.100687  \n",
       "holiday    -0.029520   0.021646  0.029135   -0.046053 -0.029340  \n",
       "workingday  0.028026   0.001986 -0.307930    0.131819  0.018842  \n",
       "weather     0.432497   0.011120 -0.161752   -0.139034 -0.161018  \n",
       "temp       -0.048478  -0.008669  0.459414    0.344451  0.415938  \n",
       "atemp      -0.031606  -0.049997  0.454015    0.342345  0.412644  \n",
       "humidity    1.000000  -0.296975 -0.320253   -0.279501 -0.322269  \n",
       "windspeed  -0.296975   1.000000  0.079524    0.100579  0.105607  \n",
       "casual     -0.320253   0.079524  1.000000    0.509175  0.707938  \n",
       "registered -0.279501   0.100579  0.509175    1.000000  0.968329  \n",
       "count      -0.322269   0.105607  0.707938    0.968329  1.000000  "
      ]
     },
     "execution_count": 397,
     "metadata": {},
     "output_type": "execute_result"
    }
   ],
   "source": [
    "#Corelation of the varibales\n",
    "train.corr()"
   ]
  },
  {
   "cell_type": "code",
   "execution_count": 398,
   "id": "9c23ff43-f48b-424e-9b6a-36e9c88c93a2",
   "metadata": {},
   "outputs": [],
   "source": [
    "#HeatMap of the correlation"
   ]
  },
  {
   "cell_type": "code",
   "execution_count": 399,
   "id": "6e624573-fcc3-440d-98f4-63df50e8368d",
   "metadata": {},
   "outputs": [
    {
     "data": {
      "text/plain": [
       "<AxesSubplot:>"
      ]
     },
     "execution_count": 399,
     "metadata": {},
     "output_type": "execute_result"
    },
    {
     "data": {
      "image/png": "[encoded data removed]",
      "text/plain": [
       "<Figure size 1440x720 with 2 Axes>"
      ]
     },
     "metadata": {
      "needs_background": "light"
     },
     "output_type": "display_data"
    }
   ],
   "source": [
    "corr = train.corr()\n",
    "mask = np.array(corr)\n",
    "mask[np.tril_indices_from(mask)] =False\n",
    "fig,ax= plt.subplots()\n",
    "fig.set_size_inches(20,10)\n",
    "sn.heatmap(train.corr(),mask = mask,vmax= 1,square =True ,annot= True, cmap=\"YlGnBu\")"
   ]
  },
  {
   "cell_type": "markdown",
   "id": "ecf84292-1d46-483b-adc5-570008a4e2c3",
   "metadata": {},
   "source": [
    "Here we have the Corelation between all the variables in the data set with each other and it explains that:\n",
    "1. All the all the variables have respective relation with the target variable except \"datetime', since it is a \"Object\" data type, it can not have a corelation with the other \"Integer\" variable.\n",
    "2. We can also see that the corelation of \"temp\" and \"atemp\" is very strong and it can create erorrs in predicting the data, so we will drop one them while creating the model.\n",
    "3. \"registered\" and \"casual\" variables also have a positive strong corelation with the Target Variable, where as \"holiday\", \"weather\" and \"humidity\" have respective negetive corelation with the Target Variable."
   ]
  },
  {
   "cell_type": "markdown",
   "id": "4c5248f0-dcac-4634-b084-9fdfda2efc29",
   "metadata": {},
   "source": [
    "# Missing Values\n",
    "Befor buildding the model, lest check if there are any missing values in the dataset and if there are, we will treat them accordingly."
   ]
  },
  {
   "cell_type": "code",
   "execution_count": 400,
   "id": "78e11f9d-3c27-4edd-9c21-c2e2f2631de6",
   "metadata": {},
   "outputs": [
    {
     "data": {
      "text/plain": [
       "datetime      0\n",
       "season        0\n",
       "holiday       0\n",
       "workingday    0\n",
       "weather       0\n",
       "temp          0\n",
       "atemp         0\n",
       "humidity      0\n",
       "windspeed     0\n",
       "casual        0\n",
       "registered    0\n",
       "count         0\n",
       "dtype: int64"
      ]
     },
     "execution_count": 400,
     "metadata": {},
     "output_type": "execute_result"
    }
   ],
   "source": [
    "#Detecting Missing Values\n",
    "train.isnull().sum()"
   ]
  },
  {
   "cell_type": "code",
   "execution_count": 401,
   "id": "6174ec9b-7cef-40ae-8daf-886c136c9423",
   "metadata": {},
   "outputs": [
    {
     "data": {
      "text/plain": [
       "datetime      0\n",
       "season        0\n",
       "holiday       0\n",
       "workingday    0\n",
       "weather       0\n",
       "temp          0\n",
       "atemp         0\n",
       "humidity      0\n",
       "windspeed     0\n",
       "casual        0\n",
       "registered    0\n",
       "dtype: int64"
      ]
     },
     "execution_count": 401,
     "metadata": {},
     "output_type": "execute_result"
    }
   ],
   "source": [
    "test.isnull().sum()"
   ]
  },
  {
   "cell_type": "markdown",
   "id": "dc124bf5-9766-4641-a2d5-9d05a2d90d74",
   "metadata": {},
   "source": [
    "Here we cam see that there are nethier Missing Values in our dataset nor any outliers."
   ]
  },
  {
   "cell_type": "markdown",
   "id": "4f28c7ba-75df-42b3-98ad-73507dbb6408",
   "metadata": {},
   "source": [
    "# Variable Tranformation\n",
    "Let's modify our data set to suit to the algorithm that we are applying i.e. Linear Regression which only excepts continous variables as its input.In this dataset, variable \"datetime\" is of \"object\" data type, which is not a continous variable. \n",
    "\n",
    "So, we are going to extract out the features from the \"datetime\" variable which will be of \"Integer\" or \"Float\" datatype.\n",
    "\n",
    "We can extract date, hour and month from the \"datetime\" variable using Datetime Module."
   ]
  },
  {
   "cell_type": "code",
   "execution_count": 402,
   "id": "a295a401-0a45-4507-9950-90fe4322f81a",
   "metadata": {},
   "outputs": [],
   "source": [
    "#Extracting Date,Hour and Month From \"datetime\" : \"train\"\n",
    "train[\"date\"] = train.datetime.apply(lambda x : x.split()[0])\n",
    "train[\"hour\"] = train.datetime.apply(lambda x : x.split()[1].split(\":\")[0])\n",
    "train[\"month\"] = train.date.apply(lambda dateString : datetime.strptime(dateString, \"%Y-%m-%d\").month)"
   ]
  },
  {
   "cell_type": "markdown",
   "id": "acc9c202-8e52-469f-98d7-50496b8f2aac",
   "metadata": {},
   "source": [
    "Let's see how we have modified our dataset."
   ]
  },
  {
   "cell_type": "code",
   "execution_count": 403,
   "id": "b24c74cb-b2cb-4d6d-ac60-110f8ff41f30",
   "metadata": {},
   "outputs": [
    {
     "data": {
      "text/html": [
       "<div>\n",
       "<style scoped>\n",
       "    .dataframe tbody tr th:only-of-type {\n",
       "        vertical-align: middle;\n",
       "    }\n",
       "\n",
       "    .dataframe tbody tr th {\n",
       "        vertical-align: top;\n",
       "    }\n",
       "\n",
       "    .dataframe thead th {\n",
       "        text-align: right;\n",
       "    }\n",
       "</style>\n",
       "<table border=\"1\" class=\"dataframe\">\n",
       "  <thead>\n",
       "    <tr style=\"text-align: right;\">\n",
       "      <th></th>\n",
       "      <th>datetime</th>\n",
       "      <th>season</th>\n",
       "      <th>holiday</th>\n",
       "      <th>workingday</th>\n",
       "      <th>weather</th>\n",
       "      <th>temp</th>\n",
       "      <th>atemp</th>\n",
       "      <th>humidity</th>\n",
       "      <th>windspeed</th>\n",
       "      <th>casual</th>\n",
       "      <th>registered</th>\n",
       "      <th>count</th>\n",
       "      <th>date</th>\n",
       "      <th>hour</th>\n",
       "      <th>month</th>\n",
       "    </tr>\n",
       "  </thead>\n",
       "  <tbody>\n",
       "    <tr>\n",
       "      <th>0</th>\n",
       "      <td>2011-01-01 0:00:00</td>\n",
       "      <td>1</td>\n",
       "      <td>0</td>\n",
       "      <td>0</td>\n",
       "      <td>1</td>\n",
       "      <td>9.84</td>\n",
       "      <td>14.395</td>\n",
       "      <td>81.0</td>\n",
       "      <td>0.0000</td>\n",
       "      <td>3</td>\n",
       "      <td>13</td>\n",
       "      <td>16</td>\n",
       "      <td>2011-01-01</td>\n",
       "      <td>0</td>\n",
       "      <td>1</td>\n",
       "    </tr>\n",
       "    <tr>\n",
       "      <th>1</th>\n",
       "      <td>2011-01-01 1:00:00</td>\n",
       "      <td>1</td>\n",
       "      <td>0</td>\n",
       "      <td>0</td>\n",
       "      <td>1</td>\n",
       "      <td>9.02</td>\n",
       "      <td>13.635</td>\n",
       "      <td>80.0</td>\n",
       "      <td>0.0000</td>\n",
       "      <td>8</td>\n",
       "      <td>32</td>\n",
       "      <td>40</td>\n",
       "      <td>2011-01-01</td>\n",
       "      <td>1</td>\n",
       "      <td>1</td>\n",
       "    </tr>\n",
       "    <tr>\n",
       "      <th>2</th>\n",
       "      <td>2011-01-01 2:00:00</td>\n",
       "      <td>1</td>\n",
       "      <td>0</td>\n",
       "      <td>0</td>\n",
       "      <td>1</td>\n",
       "      <td>9.02</td>\n",
       "      <td>13.635</td>\n",
       "      <td>80.0</td>\n",
       "      <td>0.0000</td>\n",
       "      <td>5</td>\n",
       "      <td>27</td>\n",
       "      <td>32</td>\n",
       "      <td>2011-01-01</td>\n",
       "      <td>2</td>\n",
       "      <td>1</td>\n",
       "    </tr>\n",
       "    <tr>\n",
       "      <th>3</th>\n",
       "      <td>2011-01-01 3:00:00</td>\n",
       "      <td>1</td>\n",
       "      <td>0</td>\n",
       "      <td>0</td>\n",
       "      <td>1</td>\n",
       "      <td>9.84</td>\n",
       "      <td>14.395</td>\n",
       "      <td>75.0</td>\n",
       "      <td>0.0000</td>\n",
       "      <td>3</td>\n",
       "      <td>10</td>\n",
       "      <td>13</td>\n",
       "      <td>2011-01-01</td>\n",
       "      <td>3</td>\n",
       "      <td>1</td>\n",
       "    </tr>\n",
       "    <tr>\n",
       "      <th>4</th>\n",
       "      <td>2011-01-01 4:00:00</td>\n",
       "      <td>1</td>\n",
       "      <td>0</td>\n",
       "      <td>0</td>\n",
       "      <td>1</td>\n",
       "      <td>9.84</td>\n",
       "      <td>14.395</td>\n",
       "      <td>75.0</td>\n",
       "      <td>0.0000</td>\n",
       "      <td>0</td>\n",
       "      <td>1</td>\n",
       "      <td>1</td>\n",
       "      <td>2011-01-01</td>\n",
       "      <td>4</td>\n",
       "      <td>1</td>\n",
       "    </tr>\n",
       "    <tr>\n",
       "      <th>...</th>\n",
       "      <td>...</td>\n",
       "      <td>...</td>\n",
       "      <td>...</td>\n",
       "      <td>...</td>\n",
       "      <td>...</td>\n",
       "      <td>...</td>\n",
       "      <td>...</td>\n",
       "      <td>...</td>\n",
       "      <td>...</td>\n",
       "      <td>...</td>\n",
       "      <td>...</td>\n",
       "      <td>...</td>\n",
       "      <td>...</td>\n",
       "      <td>...</td>\n",
       "      <td>...</td>\n",
       "    </tr>\n",
       "    <tr>\n",
       "      <th>12975</th>\n",
       "      <td>2012-06-29 20:00:00</td>\n",
       "      <td>3</td>\n",
       "      <td>0</td>\n",
       "      <td>1</td>\n",
       "      <td>1</td>\n",
       "      <td>37.72</td>\n",
       "      <td>44.695</td>\n",
       "      <td>42.0</td>\n",
       "      <td>16.9979</td>\n",
       "      <td>53</td>\n",
       "      <td>255</td>\n",
       "      <td>308</td>\n",
       "      <td>2012-06-29</td>\n",
       "      <td>20</td>\n",
       "      <td>6</td>\n",
       "    </tr>\n",
       "    <tr>\n",
       "      <th>12976</th>\n",
       "      <td>2012-06-29 21:00:00</td>\n",
       "      <td>3</td>\n",
       "      <td>0</td>\n",
       "      <td>1</td>\n",
       "      <td>2</td>\n",
       "      <td>35.26</td>\n",
       "      <td>41.665</td>\n",
       "      <td>53.0</td>\n",
       "      <td>12.9980</td>\n",
       "      <td>41</td>\n",
       "      <td>195</td>\n",
       "      <td>236</td>\n",
       "      <td>2012-06-29</td>\n",
       "      <td>21</td>\n",
       "      <td>6</td>\n",
       "    </tr>\n",
       "    <tr>\n",
       "      <th>12977</th>\n",
       "      <td>2012-06-29 22:00:00</td>\n",
       "      <td>3</td>\n",
       "      <td>0</td>\n",
       "      <td>1</td>\n",
       "      <td>3</td>\n",
       "      <td>33.62</td>\n",
       "      <td>41.665</td>\n",
       "      <td>63.0</td>\n",
       "      <td>12.9980</td>\n",
       "      <td>34</td>\n",
       "      <td>129</td>\n",
       "      <td>163</td>\n",
       "      <td>2012-06-29</td>\n",
       "      <td>22</td>\n",
       "      <td>6</td>\n",
       "    </tr>\n",
       "    <tr>\n",
       "      <th>12978</th>\n",
       "      <td>2012-06-29 23:00:00</td>\n",
       "      <td>3</td>\n",
       "      <td>0</td>\n",
       "      <td>1</td>\n",
       "      <td>3</td>\n",
       "      <td>33.62</td>\n",
       "      <td>41.665</td>\n",
       "      <td>63.0</td>\n",
       "      <td>12.9980</td>\n",
       "      <td>6</td>\n",
       "      <td>42</td>\n",
       "      <td>48</td>\n",
       "      <td>2012-06-29</td>\n",
       "      <td>23</td>\n",
       "      <td>6</td>\n",
       "    </tr>\n",
       "    <tr>\n",
       "      <th>12979</th>\n",
       "      <td>2012-06-30 0:00:00</td>\n",
       "      <td>3</td>\n",
       "      <td>0</td>\n",
       "      <td>0</td>\n",
       "      <td>3</td>\n",
       "      <td>26.24</td>\n",
       "      <td>28.790</td>\n",
       "      <td>89.0</td>\n",
       "      <td>11.0014</td>\n",
       "      <td>4</td>\n",
       "      <td>65</td>\n",
       "      <td>69</td>\n",
       "      <td>2012-06-30</td>\n",
       "      <td>0</td>\n",
       "      <td>6</td>\n",
       "    </tr>\n",
       "  </tbody>\n",
       "</table>\n",
       "<p>12980 rows × 15 columns</p>\n",
       "</div>"
      ],
      "text/plain": [
       "                  datetime  season  holiday  workingday  weather   temp  \\\n",
       "0       2011-01-01 0:00:00       1        0           0        1   9.84   \n",
       "1       2011-01-01 1:00:00       1        0           0        1   9.02   \n",
       "2       2011-01-01 2:00:00       1        0           0        1   9.02   \n",
       "3       2011-01-01 3:00:00       1        0           0        1   9.84   \n",
       "4       2011-01-01 4:00:00       1        0           0        1   9.84   \n",
       "...                    ...     ...      ...         ...      ...    ...   \n",
       "12975  2012-06-29 20:00:00       3        0           1        1  37.72   \n",
       "12976  2012-06-29 21:00:00       3        0           1        2  35.26   \n",
       "12977  2012-06-29 22:00:00       3        0           1        3  33.62   \n",
       "12978  2012-06-29 23:00:00       3        0           1        3  33.62   \n",
       "12979   2012-06-30 0:00:00       3        0           0        3  26.24   \n",
       "\n",
       "        atemp  humidity  windspeed  casual  registered  count        date  \\\n",
       "0      14.395      81.0     0.0000       3          13     16  2011-01-01   \n",
       "1      13.635      80.0     0.0000       8          32     40  2011-01-01   \n",
       "2      13.635      80.0     0.0000       5          27     32  2011-01-01   \n",
       "3      14.395      75.0     0.0000       3          10     13  2011-01-01   \n",
       "4      14.395      75.0     0.0000       0           1      1  2011-01-01   \n",
       "...       ...       ...        ...     ...         ...    ...         ...   \n",
       "12975  44.695      42.0    16.9979      53         255    308  2012-06-29   \n",
       "12976  41.665      53.0    12.9980      41         195    236  2012-06-29   \n",
       "12977  41.665      63.0    12.9980      34         129    163  2012-06-29   \n",
       "12978  41.665      63.0    12.9980       6          42     48  2012-06-29   \n",
       "12979  28.790      89.0    11.0014       4          65     69  2012-06-30   \n",
       "\n",
       "      hour  month  \n",
       "0        0      1  \n",
       "1        1      1  \n",
       "2        2      1  \n",
       "3        3      1  \n",
       "4        4      1  \n",
       "...    ...    ...  \n",
       "12975   20      6  \n",
       "12976   21      6  \n",
       "12977   22      6  \n",
       "12978   23      6  \n",
       "12979    0      6  \n",
       "\n",
       "[12980 rows x 15 columns]"
      ]
     },
     "execution_count": 403,
     "metadata": {},
     "output_type": "execute_result"
    }
   ],
   "source": [
    "train"
   ]
  },
  {
   "cell_type": "markdown",
   "id": "68f37851-84b8-40a2-973f-3214adc205fa",
   "metadata": {},
   "source": [
    "Here you can see that we have extracted features such as \"date\",\"hour\"and \"month\" from the \"datetime\" variable and stored them in different variables respectively.\n",
    "\n",
    "Let's modify our \"test\" dataset too, in the same way we did it for the \"train\" data set."
   ]
  },
  {
   "cell_type": "code",
   "execution_count": 404,
   "id": "92589c39-eff7-41f3-8c4c-b06c3b6dec28",
   "metadata": {},
   "outputs": [],
   "source": [
    "#Extracting Date,Hour and Month From \"datetime\" : \"test\"\n",
    "test[\"date\"] = test.datetime.apply(lambda x : x.split()[0])\n",
    "test[\"hour\"] = test.datetime.apply(lambda x : x.split()[1].split(\":\")[0])\n",
    "test[\"month\"] = test.date.apply(lambda dateString : datetime.strptime(dateString, \"%Y-%m-%d\").month)"
   ]
  },
  {
   "cell_type": "markdown",
   "id": "bb805f43-d963-4e6b-ad35-823ca473e2e6",
   "metadata": {},
   "source": [
    "Before droping the unnecessary variable, lets first divide the \"train\" dataset into two parts, i.e. \"training\" and \"validation\". Where, \"training' data will be the one with which we will train our model and use the 'validation' part to check the score and prformance of our model."
   ]
  },
  {
   "cell_type": "code",
   "execution_count": 405,
   "id": "b0635695-2465-4789-8da9-763b31eb38d8",
   "metadata": {},
   "outputs": [],
   "source": [
    "training = train[train[\"datetime\"]<=\"2012-03-31 23:59:59\"]"
   ]
  },
  {
   "cell_type": "code",
   "execution_count": 406,
   "id": "7addf85c-deb8-4851-82a9-f15e8d818f83",
   "metadata": {},
   "outputs": [
    {
     "data": {
      "text/html": [
       "<div>\n",
       "<style scoped>\n",
       "    .dataframe tbody tr th:only-of-type {\n",
       "        vertical-align: middle;\n",
       "    }\n",
       "\n",
       "    .dataframe tbody tr th {\n",
       "        vertical-align: top;\n",
       "    }\n",
       "\n",
       "    .dataframe thead th {\n",
       "        text-align: right;\n",
       "    }\n",
       "</style>\n",
       "<table border=\"1\" class=\"dataframe\">\n",
       "  <thead>\n",
       "    <tr style=\"text-align: right;\">\n",
       "      <th></th>\n",
       "      <th>datetime</th>\n",
       "      <th>season</th>\n",
       "      <th>holiday</th>\n",
       "      <th>workingday</th>\n",
       "      <th>weather</th>\n",
       "      <th>temp</th>\n",
       "      <th>atemp</th>\n",
       "      <th>humidity</th>\n",
       "      <th>windspeed</th>\n",
       "      <th>casual</th>\n",
       "      <th>registered</th>\n",
       "      <th>count</th>\n",
       "      <th>date</th>\n",
       "      <th>hour</th>\n",
       "      <th>month</th>\n",
       "    </tr>\n",
       "  </thead>\n",
       "  <tbody>\n",
       "    <tr>\n",
       "      <th>0</th>\n",
       "      <td>2011-01-01 0:00:00</td>\n",
       "      <td>1</td>\n",
       "      <td>0</td>\n",
       "      <td>0</td>\n",
       "      <td>1</td>\n",
       "      <td>9.84</td>\n",
       "      <td>14.395</td>\n",
       "      <td>81.0</td>\n",
       "      <td>0.0000</td>\n",
       "      <td>3</td>\n",
       "      <td>13</td>\n",
       "      <td>16</td>\n",
       "      <td>2011-01-01</td>\n",
       "      <td>0</td>\n",
       "      <td>1</td>\n",
       "    </tr>\n",
       "    <tr>\n",
       "      <th>1</th>\n",
       "      <td>2011-01-01 1:00:00</td>\n",
       "      <td>1</td>\n",
       "      <td>0</td>\n",
       "      <td>0</td>\n",
       "      <td>1</td>\n",
       "      <td>9.02</td>\n",
       "      <td>13.635</td>\n",
       "      <td>80.0</td>\n",
       "      <td>0.0000</td>\n",
       "      <td>8</td>\n",
       "      <td>32</td>\n",
       "      <td>40</td>\n",
       "      <td>2011-01-01</td>\n",
       "      <td>1</td>\n",
       "      <td>1</td>\n",
       "    </tr>\n",
       "    <tr>\n",
       "      <th>2</th>\n",
       "      <td>2011-01-01 2:00:00</td>\n",
       "      <td>1</td>\n",
       "      <td>0</td>\n",
       "      <td>0</td>\n",
       "      <td>1</td>\n",
       "      <td>9.02</td>\n",
       "      <td>13.635</td>\n",
       "      <td>80.0</td>\n",
       "      <td>0.0000</td>\n",
       "      <td>5</td>\n",
       "      <td>27</td>\n",
       "      <td>32</td>\n",
       "      <td>2011-01-01</td>\n",
       "      <td>2</td>\n",
       "      <td>1</td>\n",
       "    </tr>\n",
       "    <tr>\n",
       "      <th>3</th>\n",
       "      <td>2011-01-01 3:00:00</td>\n",
       "      <td>1</td>\n",
       "      <td>0</td>\n",
       "      <td>0</td>\n",
       "      <td>1</td>\n",
       "      <td>9.84</td>\n",
       "      <td>14.395</td>\n",
       "      <td>75.0</td>\n",
       "      <td>0.0000</td>\n",
       "      <td>3</td>\n",
       "      <td>10</td>\n",
       "      <td>13</td>\n",
       "      <td>2011-01-01</td>\n",
       "      <td>3</td>\n",
       "      <td>1</td>\n",
       "    </tr>\n",
       "    <tr>\n",
       "      <th>4</th>\n",
       "      <td>2011-01-01 4:00:00</td>\n",
       "      <td>1</td>\n",
       "      <td>0</td>\n",
       "      <td>0</td>\n",
       "      <td>1</td>\n",
       "      <td>9.84</td>\n",
       "      <td>14.395</td>\n",
       "      <td>75.0</td>\n",
       "      <td>0.0000</td>\n",
       "      <td>0</td>\n",
       "      <td>1</td>\n",
       "      <td>1</td>\n",
       "      <td>2011-01-01</td>\n",
       "      <td>4</td>\n",
       "      <td>1</td>\n",
       "    </tr>\n",
       "    <tr>\n",
       "      <th>...</th>\n",
       "      <td>...</td>\n",
       "      <td>...</td>\n",
       "      <td>...</td>\n",
       "      <td>...</td>\n",
       "      <td>...</td>\n",
       "      <td>...</td>\n",
       "      <td>...</td>\n",
       "      <td>...</td>\n",
       "      <td>...</td>\n",
       "      <td>...</td>\n",
       "      <td>...</td>\n",
       "      <td>...</td>\n",
       "      <td>...</td>\n",
       "      <td>...</td>\n",
       "      <td>...</td>\n",
       "    </tr>\n",
       "    <tr>\n",
       "      <th>10816</th>\n",
       "      <td>2012-03-31 19:00:00</td>\n",
       "      <td>2</td>\n",
       "      <td>0</td>\n",
       "      <td>0</td>\n",
       "      <td>1</td>\n",
       "      <td>17.22</td>\n",
       "      <td>21.210</td>\n",
       "      <td>71.0</td>\n",
       "      <td>30.0026</td>\n",
       "      <td>93</td>\n",
       "      <td>191</td>\n",
       "      <td>284</td>\n",
       "      <td>2012-03-31</td>\n",
       "      <td>19</td>\n",
       "      <td>3</td>\n",
       "    </tr>\n",
       "    <tr>\n",
       "      <th>10817</th>\n",
       "      <td>2012-03-31 20:00:00</td>\n",
       "      <td>2</td>\n",
       "      <td>0</td>\n",
       "      <td>0</td>\n",
       "      <td>2</td>\n",
       "      <td>16.40</td>\n",
       "      <td>20.455</td>\n",
       "      <td>71.0</td>\n",
       "      <td>22.0028</td>\n",
       "      <td>52</td>\n",
       "      <td>156</td>\n",
       "      <td>208</td>\n",
       "      <td>2012-03-31</td>\n",
       "      <td>20</td>\n",
       "      <td>3</td>\n",
       "    </tr>\n",
       "    <tr>\n",
       "      <th>10818</th>\n",
       "      <td>2012-03-31 21:00:00</td>\n",
       "      <td>2</td>\n",
       "      <td>0</td>\n",
       "      <td>0</td>\n",
       "      <td>2</td>\n",
       "      <td>16.40</td>\n",
       "      <td>20.455</td>\n",
       "      <td>71.0</td>\n",
       "      <td>22.0028</td>\n",
       "      <td>36</td>\n",
       "      <td>107</td>\n",
       "      <td>143</td>\n",
       "      <td>2012-03-31</td>\n",
       "      <td>21</td>\n",
       "      <td>3</td>\n",
       "    </tr>\n",
       "    <tr>\n",
       "      <th>10819</th>\n",
       "      <td>2012-03-31 22:00:00</td>\n",
       "      <td>2</td>\n",
       "      <td>0</td>\n",
       "      <td>0</td>\n",
       "      <td>2</td>\n",
       "      <td>15.58</td>\n",
       "      <td>19.695</td>\n",
       "      <td>71.0</td>\n",
       "      <td>16.9979</td>\n",
       "      <td>40</td>\n",
       "      <td>116</td>\n",
       "      <td>156</td>\n",
       "      <td>2012-03-31</td>\n",
       "      <td>22</td>\n",
       "      <td>3</td>\n",
       "    </tr>\n",
       "    <tr>\n",
       "      <th>10820</th>\n",
       "      <td>2012-03-31 23:00:00</td>\n",
       "      <td>2</td>\n",
       "      <td>0</td>\n",
       "      <td>0</td>\n",
       "      <td>2</td>\n",
       "      <td>14.76</td>\n",
       "      <td>16.665</td>\n",
       "      <td>76.0</td>\n",
       "      <td>19.0012</td>\n",
       "      <td>12</td>\n",
       "      <td>100</td>\n",
       "      <td>112</td>\n",
       "      <td>2012-03-31</td>\n",
       "      <td>23</td>\n",
       "      <td>3</td>\n",
       "    </tr>\n",
       "  </tbody>\n",
       "</table>\n",
       "<p>10813 rows × 15 columns</p>\n",
       "</div>"
      ],
      "text/plain": [
       "                  datetime  season  holiday  workingday  weather   temp  \\\n",
       "0       2011-01-01 0:00:00       1        0           0        1   9.84   \n",
       "1       2011-01-01 1:00:00       1        0           0        1   9.02   \n",
       "2       2011-01-01 2:00:00       1        0           0        1   9.02   \n",
       "3       2011-01-01 3:00:00       1        0           0        1   9.84   \n",
       "4       2011-01-01 4:00:00       1        0           0        1   9.84   \n",
       "...                    ...     ...      ...         ...      ...    ...   \n",
       "10816  2012-03-31 19:00:00       2        0           0        1  17.22   \n",
       "10817  2012-03-31 20:00:00       2        0           0        2  16.40   \n",
       "10818  2012-03-31 21:00:00       2        0           0        2  16.40   \n",
       "10819  2012-03-31 22:00:00       2        0           0        2  15.58   \n",
       "10820  2012-03-31 23:00:00       2        0           0        2  14.76   \n",
       "\n",
       "        atemp  humidity  windspeed  casual  registered  count        date  \\\n",
       "0      14.395      81.0     0.0000       3          13     16  2011-01-01   \n",
       "1      13.635      80.0     0.0000       8          32     40  2011-01-01   \n",
       "2      13.635      80.0     0.0000       5          27     32  2011-01-01   \n",
       "3      14.395      75.0     0.0000       3          10     13  2011-01-01   \n",
       "4      14.395      75.0     0.0000       0           1      1  2011-01-01   \n",
       "...       ...       ...        ...     ...         ...    ...         ...   \n",
       "10816  21.210      71.0    30.0026      93         191    284  2012-03-31   \n",
       "10817  20.455      71.0    22.0028      52         156    208  2012-03-31   \n",
       "10818  20.455      71.0    22.0028      36         107    143  2012-03-31   \n",
       "10819  19.695      71.0    16.9979      40         116    156  2012-03-31   \n",
       "10820  16.665      76.0    19.0012      12         100    112  2012-03-31   \n",
       "\n",
       "      hour  month  \n",
       "0        0      1  \n",
       "1        1      1  \n",
       "2        2      1  \n",
       "3        3      1  \n",
       "4        4      1  \n",
       "...    ...    ...  \n",
       "10816   19      3  \n",
       "10817   20      3  \n",
       "10818   21      3  \n",
       "10819   22      3  \n",
       "10820   23      3  \n",
       "\n",
       "[10813 rows x 15 columns]"
      ]
     },
     "execution_count": 406,
     "metadata": {},
     "output_type": "execute_result"
    }
   ],
   "source": [
    "training"
   ]
  },
  {
   "cell_type": "code",
   "execution_count": null,
   "id": "f0f0c7fb-1b36-4475-a365-4af84b5dd965",
   "metadata": {},
   "outputs": [],
   "source": []
  },
  {
   "cell_type": "code",
   "execution_count": 407,
   "id": "2bbb24fc-c088-4627-91cc-d41092513bac",
   "metadata": {},
   "outputs": [],
   "source": [
    "validation = train[10821:]"
   ]
  },
  {
   "cell_type": "code",
   "execution_count": null,
   "id": "9c933068-daa5-4d33-a3c1-771094ab3bbe",
   "metadata": {},
   "outputs": [],
   "source": []
  },
  {
   "cell_type": "code",
   "execution_count": 408,
   "id": "8dae3a94-2537-47fb-a4e6-b2f5f9e12025",
   "metadata": {},
   "outputs": [
    {
     "data": {
      "text/html": [
       "<div>\n",
       "<style scoped>\n",
       "    .dataframe tbody tr th:only-of-type {\n",
       "        vertical-align: middle;\n",
       "    }\n",
       "\n",
       "    .dataframe tbody tr th {\n",
       "        vertical-align: top;\n",
       "    }\n",
       "\n",
       "    .dataframe thead th {\n",
       "        text-align: right;\n",
       "    }\n",
       "</style>\n",
       "<table border=\"1\" class=\"dataframe\">\n",
       "  <thead>\n",
       "    <tr style=\"text-align: right;\">\n",
       "      <th></th>\n",
       "      <th>datetime</th>\n",
       "      <th>season</th>\n",
       "      <th>holiday</th>\n",
       "      <th>workingday</th>\n",
       "      <th>weather</th>\n",
       "      <th>temp</th>\n",
       "      <th>atemp</th>\n",
       "      <th>humidity</th>\n",
       "      <th>windspeed</th>\n",
       "      <th>casual</th>\n",
       "      <th>registered</th>\n",
       "      <th>count</th>\n",
       "      <th>date</th>\n",
       "      <th>hour</th>\n",
       "      <th>month</th>\n",
       "    </tr>\n",
       "  </thead>\n",
       "  <tbody>\n",
       "    <tr>\n",
       "      <th>10821</th>\n",
       "      <td>2012-04-01 0:00:00</td>\n",
       "      <td>2</td>\n",
       "      <td>0</td>\n",
       "      <td>0</td>\n",
       "      <td>2</td>\n",
       "      <td>14.76</td>\n",
       "      <td>16.665</td>\n",
       "      <td>76.0</td>\n",
       "      <td>16.9979</td>\n",
       "      <td>8</td>\n",
       "      <td>59</td>\n",
       "      <td>67</td>\n",
       "      <td>2012-04-01</td>\n",
       "      <td>0</td>\n",
       "      <td>4</td>\n",
       "    </tr>\n",
       "    <tr>\n",
       "      <th>10822</th>\n",
       "      <td>2012-04-01 1:00:00</td>\n",
       "      <td>2</td>\n",
       "      <td>0</td>\n",
       "      <td>0</td>\n",
       "      <td>2</td>\n",
       "      <td>14.76</td>\n",
       "      <td>17.425</td>\n",
       "      <td>76.0</td>\n",
       "      <td>11.0014</td>\n",
       "      <td>13</td>\n",
       "      <td>49</td>\n",
       "      <td>62</td>\n",
       "      <td>2012-04-01</td>\n",
       "      <td>1</td>\n",
       "      <td>4</td>\n",
       "    </tr>\n",
       "    <tr>\n",
       "      <th>10823</th>\n",
       "      <td>2012-04-01 2:00:00</td>\n",
       "      <td>2</td>\n",
       "      <td>0</td>\n",
       "      <td>0</td>\n",
       "      <td>2</td>\n",
       "      <td>14.76</td>\n",
       "      <td>17.425</td>\n",
       "      <td>76.0</td>\n",
       "      <td>11.0014</td>\n",
       "      <td>20</td>\n",
       "      <td>61</td>\n",
       "      <td>81</td>\n",
       "      <td>2012-04-01</td>\n",
       "      <td>2</td>\n",
       "      <td>4</td>\n",
       "    </tr>\n",
       "    <tr>\n",
       "      <th>10824</th>\n",
       "      <td>2012-04-01 3:00:00</td>\n",
       "      <td>2</td>\n",
       "      <td>0</td>\n",
       "      <td>0</td>\n",
       "      <td>2</td>\n",
       "      <td>13.94</td>\n",
       "      <td>16.665</td>\n",
       "      <td>81.0</td>\n",
       "      <td>8.9981</td>\n",
       "      <td>4</td>\n",
       "      <td>21</td>\n",
       "      <td>25</td>\n",
       "      <td>2012-04-01</td>\n",
       "      <td>3</td>\n",
       "      <td>4</td>\n",
       "    </tr>\n",
       "    <tr>\n",
       "      <th>10825</th>\n",
       "      <td>2012-04-01 4:00:00</td>\n",
       "      <td>2</td>\n",
       "      <td>0</td>\n",
       "      <td>0</td>\n",
       "      <td>2</td>\n",
       "      <td>13.94</td>\n",
       "      <td>17.425</td>\n",
       "      <td>81.0</td>\n",
       "      <td>6.0032</td>\n",
       "      <td>3</td>\n",
       "      <td>9</td>\n",
       "      <td>12</td>\n",
       "      <td>2012-04-01</td>\n",
       "      <td>4</td>\n",
       "      <td>4</td>\n",
       "    </tr>\n",
       "    <tr>\n",
       "      <th>...</th>\n",
       "      <td>...</td>\n",
       "      <td>...</td>\n",
       "      <td>...</td>\n",
       "      <td>...</td>\n",
       "      <td>...</td>\n",
       "      <td>...</td>\n",
       "      <td>...</td>\n",
       "      <td>...</td>\n",
       "      <td>...</td>\n",
       "      <td>...</td>\n",
       "      <td>...</td>\n",
       "      <td>...</td>\n",
       "      <td>...</td>\n",
       "      <td>...</td>\n",
       "      <td>...</td>\n",
       "    </tr>\n",
       "    <tr>\n",
       "      <th>12975</th>\n",
       "      <td>2012-06-29 20:00:00</td>\n",
       "      <td>3</td>\n",
       "      <td>0</td>\n",
       "      <td>1</td>\n",
       "      <td>1</td>\n",
       "      <td>37.72</td>\n",
       "      <td>44.695</td>\n",
       "      <td>42.0</td>\n",
       "      <td>16.9979</td>\n",
       "      <td>53</td>\n",
       "      <td>255</td>\n",
       "      <td>308</td>\n",
       "      <td>2012-06-29</td>\n",
       "      <td>20</td>\n",
       "      <td>6</td>\n",
       "    </tr>\n",
       "    <tr>\n",
       "      <th>12976</th>\n",
       "      <td>2012-06-29 21:00:00</td>\n",
       "      <td>3</td>\n",
       "      <td>0</td>\n",
       "      <td>1</td>\n",
       "      <td>2</td>\n",
       "      <td>35.26</td>\n",
       "      <td>41.665</td>\n",
       "      <td>53.0</td>\n",
       "      <td>12.9980</td>\n",
       "      <td>41</td>\n",
       "      <td>195</td>\n",
       "      <td>236</td>\n",
       "      <td>2012-06-29</td>\n",
       "      <td>21</td>\n",
       "      <td>6</td>\n",
       "    </tr>\n",
       "    <tr>\n",
       "      <th>12977</th>\n",
       "      <td>2012-06-29 22:00:00</td>\n",
       "      <td>3</td>\n",
       "      <td>0</td>\n",
       "      <td>1</td>\n",
       "      <td>3</td>\n",
       "      <td>33.62</td>\n",
       "      <td>41.665</td>\n",
       "      <td>63.0</td>\n",
       "      <td>12.9980</td>\n",
       "      <td>34</td>\n",
       "      <td>129</td>\n",
       "      <td>163</td>\n",
       "      <td>2012-06-29</td>\n",
       "      <td>22</td>\n",
       "      <td>6</td>\n",
       "    </tr>\n",
       "    <tr>\n",
       "      <th>12978</th>\n",
       "      <td>2012-06-29 23:00:00</td>\n",
       "      <td>3</td>\n",
       "      <td>0</td>\n",
       "      <td>1</td>\n",
       "      <td>3</td>\n",
       "      <td>33.62</td>\n",
       "      <td>41.665</td>\n",
       "      <td>63.0</td>\n",
       "      <td>12.9980</td>\n",
       "      <td>6</td>\n",
       "      <td>42</td>\n",
       "      <td>48</td>\n",
       "      <td>2012-06-29</td>\n",
       "      <td>23</td>\n",
       "      <td>6</td>\n",
       "    </tr>\n",
       "    <tr>\n",
       "      <th>12979</th>\n",
       "      <td>2012-06-30 0:00:00</td>\n",
       "      <td>3</td>\n",
       "      <td>0</td>\n",
       "      <td>0</td>\n",
       "      <td>3</td>\n",
       "      <td>26.24</td>\n",
       "      <td>28.790</td>\n",
       "      <td>89.0</td>\n",
       "      <td>11.0014</td>\n",
       "      <td>4</td>\n",
       "      <td>65</td>\n",
       "      <td>69</td>\n",
       "      <td>2012-06-30</td>\n",
       "      <td>0</td>\n",
       "      <td>6</td>\n",
       "    </tr>\n",
       "  </tbody>\n",
       "</table>\n",
       "<p>2159 rows × 15 columns</p>\n",
       "</div>"
      ],
      "text/plain": [
       "                  datetime  season  holiday  workingday  weather   temp  \\\n",
       "10821   2012-04-01 0:00:00       2        0           0        2  14.76   \n",
       "10822   2012-04-01 1:00:00       2        0           0        2  14.76   \n",
       "10823   2012-04-01 2:00:00       2        0           0        2  14.76   \n",
       "10824   2012-04-01 3:00:00       2        0           0        2  13.94   \n",
       "10825   2012-04-01 4:00:00       2        0           0        2  13.94   \n",
       "...                    ...     ...      ...         ...      ...    ...   \n",
       "12975  2012-06-29 20:00:00       3        0           1        1  37.72   \n",
       "12976  2012-06-29 21:00:00       3        0           1        2  35.26   \n",
       "12977  2012-06-29 22:00:00       3        0           1        3  33.62   \n",
       "12978  2012-06-29 23:00:00       3        0           1        3  33.62   \n",
       "12979   2012-06-30 0:00:00       3        0           0        3  26.24   \n",
       "\n",
       "        atemp  humidity  windspeed  casual  registered  count        date  \\\n",
       "10821  16.665      76.0    16.9979       8          59     67  2012-04-01   \n",
       "10822  17.425      76.0    11.0014      13          49     62  2012-04-01   \n",
       "10823  17.425      76.0    11.0014      20          61     81  2012-04-01   \n",
       "10824  16.665      81.0     8.9981       4          21     25  2012-04-01   \n",
       "10825  17.425      81.0     6.0032       3           9     12  2012-04-01   \n",
       "...       ...       ...        ...     ...         ...    ...         ...   \n",
       "12975  44.695      42.0    16.9979      53         255    308  2012-06-29   \n",
       "12976  41.665      53.0    12.9980      41         195    236  2012-06-29   \n",
       "12977  41.665      63.0    12.9980      34         129    163  2012-06-29   \n",
       "12978  41.665      63.0    12.9980       6          42     48  2012-06-29   \n",
       "12979  28.790      89.0    11.0014       4          65     69  2012-06-30   \n",
       "\n",
       "      hour  month  \n",
       "10821    0      4  \n",
       "10822    1      4  \n",
       "10823    2      4  \n",
       "10824    3      4  \n",
       "10825    4      4  \n",
       "...    ...    ...  \n",
       "12975   20      6  \n",
       "12976   21      6  \n",
       "12977   22      6  \n",
       "12978   23      6  \n",
       "12979    0      6  \n",
       "\n",
       "[2159 rows x 15 columns]"
      ]
     },
     "execution_count": 408,
     "metadata": {},
     "output_type": "execute_result"
    }
   ],
   "source": [
    "validation"
   ]
  },
  {
   "cell_type": "code",
   "execution_count": null,
   "id": "33c078c1-edb1-43aa-9a43-b035ccf7c3a4",
   "metadata": {},
   "outputs": [],
   "source": []
  },
  {
   "cell_type": "markdown",
   "id": "18499b7d-e484-497c-b8b0-58cf62777356",
   "metadata": {},
   "source": [
    "At last, we will drop the unnecessary vairable from the dataset so that it will not create hindrance and affect our data in any way.\n",
    "\n",
    "So we drop the unnecessary variables like \"datetime\",\"date\" and \"atemp\" from both the data set."
   ]
  },
  {
   "cell_type": "code",
   "execution_count": 409,
   "id": "48fb00aa-43de-4124-9342-9d74ab2096a3",
   "metadata": {},
   "outputs": [],
   "source": [
    "test = test.drop([\"datetime\", \"atemp\",\"date\"],axis=1)\n",
    "validation = validation.drop([\"datetime\",\"atemp\",\"date\"],axis=1)\n",
    "training = training.drop([\"datetime\",\"atemp\",\"date\"],axis=1)"
   ]
  },
  {
   "cell_type": "code",
   "execution_count": null,
   "id": "217c43bc-ad0b-4c8f-8702-05770041d8b8",
   "metadata": {},
   "outputs": [],
   "source": []
  },
  {
   "cell_type": "markdown",
   "id": "c9f92d2d-1d99-4c01-b7e9-5d5052ba1394",
   "metadata": {},
   "source": [
    "# Model Building\n",
    "\n",
    "Now that we our data is modified and ready to use, lets create the model which will predict the target variable im the dataset."
   ]
  },
  {
   "cell_type": "markdown",
   "id": "78af8ade-eb8e-45d2-baa7-7638b2b37d2d",
   "metadata": {},
   "source": [
    "First we have to import the module through which we are going to build our model."
   ]
  },
  {
   "cell_type": "code",
   "execution_count": 410,
   "id": "921f705e-a880-451f-97cb-a12791f6b519",
   "metadata": {},
   "outputs": [],
   "source": [
    "#Importing Linear Regression\n",
    "from sklearn.linear_model import LinearRegression"
   ]
  },
  {
   "cell_type": "markdown",
   "id": "26783140-0835-4308-846e-cedee9b114ea",
   "metadata": {},
   "source": [
    "Now that we have imported the model, lest assign a name to it."
   ]
  },
  {
   "cell_type": "code",
   "execution_count": 411,
   "id": "9c350f3d-10d3-4518-aac8-ee27b9d29f71",
   "metadata": {},
   "outputs": [],
   "source": [
    "lreg = LinearRegression()"
   ]
  },
  {
   "cell_type": "markdown",
   "id": "ac361691-d9ce-4858-ae6a-496875d40d90",
   "metadata": {},
   "source": [
    "Before using the module, lets divide our training and validation dataset acoordingly.\n",
    "\n",
    "The training dataset will be divided into two part, out of which, one will be \"x_train\" which will contain the Independent Variables, and second will be \"y_train\" which will contain only the Dependent Variable.\n",
    "\n",
    "Similarly, we will apply the same concept on the validation dataset and divide them into \"x_val\" and \"y_val\" respectively."
   ]
  },
  {
   "cell_type": "code",
   "execution_count": 412,
   "id": "19654333-c475-4fb8-bb21-6e3d557d8633",
   "metadata": {},
   "outputs": [],
   "source": [
    "#Dividing the training dataset\n",
    "x_train = training.drop(\"count\",axis=1)"
   ]
  },
  {
   "cell_type": "code",
   "execution_count": 413,
   "id": "8e6358c1-19a9-4eaa-907a-5558f3975f2a",
   "metadata": {},
   "outputs": [],
   "source": [
    "y_train = training[\"count\"]"
   ]
  },
  {
   "cell_type": "code",
   "execution_count": 414,
   "id": "fa732cad-8841-44da-971b-12449212910c",
   "metadata": {},
   "outputs": [],
   "source": [
    "x_val = validation.drop(\"count\",axis=1)\n",
    "y_val = validation[\"count\"]"
   ]
  },
  {
   "cell_type": "code",
   "execution_count": 415,
   "id": "eeff7ac2-1fe7-4294-890c-935ae4def3e0",
   "metadata": {},
   "outputs": [
    {
     "name": "stderr",
     "output_type": "stream",
     "text": [
      "C:\\Users\\Hashm\\anaconda3\\lib\\site-packages\\seaborn\\distributions.py:2619: FutureWarning: `distplot` is a deprecated function and will be removed in a future version. Please adapt your code to use either `displot` (a figure-level function with similar flexibility) or `histplot` (an axes-level function for histograms).\n",
      "  warnings.warn(msg, FutureWarning)\n"
     ]
    },
    {
     "data": {
      "text/plain": [
       "<AxesSubplot:xlabel='count', ylabel='Density'>"
      ]
     },
     "execution_count": 415,
     "metadata": {},
     "output_type": "execute_result"
    },
    {
     "data": {
      "image/png": "[encoded data removed]",
      "text/plain": [
       "<Figure size 432x288 with 1 Axes>"
      ]
     },
     "metadata": {
      "needs_background": "light"
     },
     "output_type": "display_data"
    }
   ],
   "source": [
    "sn.distplot(y_train)"
   ]
  },
  {
   "cell_type": "code",
   "execution_count": 416,
   "id": "445abee0-1787-4156-9a10-54782fb17c7d",
   "metadata": {},
   "outputs": [
    {
     "name": "stderr",
     "output_type": "stream",
     "text": [
      "C:\\Users\\Hashm\\anaconda3\\lib\\site-packages\\seaborn\\distributions.py:2619: FutureWarning: `distplot` is a deprecated function and will be removed in a future version. Please adapt your code to use either `displot` (a figure-level function with similar flexibility) or `histplot` (an axes-level function for histograms).\n",
      "  warnings.warn(msg, FutureWarning)\n"
     ]
    },
    {
     "data": {
      "text/plain": [
       "<AxesSubplot:xlabel='count', ylabel='Density'>"
      ]
     },
     "execution_count": 416,
     "metadata": {},
     "output_type": "execute_result"
    },
    {
     "data": {
      "image/png": "[encoded data removed]",
      "text/plain": [
       "<Figure size 432x288 with 1 Axes>"
      ]
     },
     "metadata": {
      "needs_background": "light"
     },
     "output_type": "display_data"
    }
   ],
   "source": [
    "sn.distplot(y_val)"
   ]
  },
  {
   "cell_type": "markdown",
   "id": "2fcc14e1-a867-4650-ac1e-e1477eb9b2f8",
   "metadata": {},
   "source": [
    "Since the distribution of the target variables in both training and validiation dataset seems to be Right Skewed, we will apply logarithm to both of the dataset and see if it turns out to be a normally distributed."
   ]
  },
  {
   "cell_type": "code",
   "execution_count": 417,
   "id": "9b49634a-8be9-47bd-a57a-7d9b9a9d0881",
   "metadata": {},
   "outputs": [],
   "source": [
    "y_train = np.log(training[\"count\"])\n",
    "y_val = np.log(validation[\"count\"])"
   ]
  },
  {
   "cell_type": "markdown",
   "id": "01f54d1e-c578-47b6-bc10-8203129503eb",
   "metadata": {},
   "source": [
    "Now lets see if the distribution turns out to be a normal distribution."
   ]
  },
  {
   "cell_type": "code",
   "execution_count": 418,
   "id": "d1da1270-aacb-4ee6-91a4-822ea616b96c",
   "metadata": {},
   "outputs": [
    {
     "name": "stderr",
     "output_type": "stream",
     "text": [
      "C:\\Users\\Hashm\\anaconda3\\lib\\site-packages\\seaborn\\distributions.py:2619: FutureWarning: `distplot` is a deprecated function and will be removed in a future version. Please adapt your code to use either `displot` (a figure-level function with similar flexibility) or `histplot` (an axes-level function for histograms).\n",
      "  warnings.warn(msg, FutureWarning)\n"
     ]
    },
    {
     "data": {
      "text/plain": [
       "<AxesSubplot:xlabel='count', ylabel='Density'>"
      ]
     },
     "execution_count": 418,
     "metadata": {},
     "output_type": "execute_result"
    },
    {
     "data": {
      "image/png": "[encoded data removed]",
      "text/plain": [
       "<Figure size 432x288 with 1 Axes>"
      ]
     },
     "metadata": {
      "needs_background": "light"
     },
     "output_type": "display_data"
    }
   ],
   "source": [
    "sn.distplot(y_train)"
   ]
  },
  {
   "cell_type": "code",
   "execution_count": 419,
   "id": "a24c9a4c-2d07-4521-99e5-7670be39c018",
   "metadata": {},
   "outputs": [
    {
     "name": "stderr",
     "output_type": "stream",
     "text": [
      "C:\\Users\\Hashm\\anaconda3\\lib\\site-packages\\seaborn\\distributions.py:2619: FutureWarning: `distplot` is a deprecated function and will be removed in a future version. Please adapt your code to use either `displot` (a figure-level function with similar flexibility) or `histplot` (an axes-level function for histograms).\n",
      "  warnings.warn(msg, FutureWarning)\n"
     ]
    },
    {
     "data": {
      "text/plain": [
       "<AxesSubplot:xlabel='count', ylabel='Density'>"
      ]
     },
     "execution_count": 419,
     "metadata": {},
     "output_type": "execute_result"
    },
    {
     "data": {
      "image/png": "[encoded data removed]",
      "text/plain": [
       "<Figure size 432x288 with 1 Axes>"
      ]
     },
     "metadata": {
      "needs_background": "light"
     },
     "output_type": "display_data"
    }
   ],
   "source": [
    "sn.distplot(y_val)"
   ]
  },
  {
   "cell_type": "markdown",
   "id": "8f6f3fbe-15df-4d64-b906-467602f61aff",
   "metadata": {},
   "source": [
    "Now lets see what are the dimensions of the datasets which we have created."
   ]
  },
  {
   "cell_type": "code",
   "execution_count": 420,
   "id": "1406185b-21a1-4944-8417-1e28ef4d6b39",
   "metadata": {},
   "outputs": [
    {
     "data": {
      "text/plain": [
       "((10813, 11), (10813,), (2159, 11), (2159,))"
      ]
     },
     "execution_count": 420,
     "metadata": {},
     "output_type": "execute_result"
    }
   ],
   "source": [
    "x_train.shape, y_train.shape, x_val.shape, y_val.shape"
   ]
  },
  {
   "cell_type": "markdown",
   "id": "d1dfcd8c-000a-404d-93ec-38dc96cdd4c0",
   "metadata": {},
   "source": [
    "Now we have to train our model using the training dataset.\n",
    "\n",
    "To do that, we have to fit the training dataset into the model."
   ]
  },
  {
   "cell_type": "code",
   "execution_count": 421,
   "id": "8af2b069-7214-4114-afcf-212e5f5490b0",
   "metadata": {},
   "outputs": [
    {
     "data": {
      "text/plain": [
       "LinearRegression()"
      ]
     },
     "execution_count": 421,
     "metadata": {},
     "output_type": "execute_result"
    }
   ],
   "source": [
    "#Fitting training data to the Model\n",
    "lreg.fit(x_train,y_train)"
   ]
  },
  {
   "cell_type": "markdown",
   "id": "b38630a0-628e-44fd-98c7-422688aa872e",
   "metadata": {},
   "source": [
    "We have fitted the training data into the model which means our data is now trained and we can use this model to make predictios on the validation dataset.\n",
    "\n",
    "So lets predict the target variable in the validation dataset."
   ]
  },
  {
   "cell_type": "code",
   "execution_count": 422,
   "id": "fe0fb18b-97f9-4f07-8fda-99385841fe67",
   "metadata": {},
   "outputs": [],
   "source": [
    "#Predicting the validation dataset\n",
    "pred=lreg.predict(x_val)"
   ]
  },
  {
   "cell_type": "markdown",
   "id": "adc6c6ba-903b-469c-96de-dc9c504ee11c",
   "metadata": {},
   "source": [
    "We have predicted the values of Target Variable for the validation dataset and stored it in another dataset named as \"pred\".\n",
    "\n",
    "Since the evaluation metric in the problem statement is RMSLE score, we will find out the RMSLE score of the predicted values and the actual values.\n",
    "\n",
    "RMSLE is Root Mean Squared Error, which defines how far the values lies from the actual values. So, we need the RMSLE score to be as close to 0 as possible."
   ]
  },
  {
   "cell_type": "code",
   "execution_count": 423,
   "id": "b6d211ab-65ae-42ce-80a2-228fd0dbafcb",
   "metadata": {},
   "outputs": [],
   "source": [
    "from sklearn.metrics import mean_squared_error"
   ]
  },
  {
   "cell_type": "code",
   "execution_count": 424,
   "id": "3014f60d-0f5c-4e4f-9079-2f0a0727bd37",
   "metadata": {},
   "outputs": [],
   "source": [
    "rmse_val =mean_squared_error(y_val,pred,squared=False)"
   ]
  },
  {
   "cell_type": "code",
   "execution_count": 425,
   "id": "963d9a98-4297-45e5-a68d-f1beeb4e3959",
   "metadata": {},
   "outputs": [],
   "source": [
    "rmse_train = mean_squared_error(y_train,lreg.predict(x_train),squared =False)"
   ]
  },
  {
   "cell_type": "code",
   "execution_count": 426,
   "id": "7ae3e650-d299-4e07-9e5f-5207a0051d20",
   "metadata": {},
   "outputs": [
    {
     "data": {
      "text/plain": [
       "0.9131101724224706"
      ]
     },
     "execution_count": 426,
     "metadata": {},
     "output_type": "execute_result"
    }
   ],
   "source": [
    "rmse_val"
   ]
  },
  {
   "cell_type": "markdown",
   "id": "b8757c4f-3533-422d-99dc-6f65d31c6b8a",
   "metadata": {},
   "source": [
    "Since the RMSLE score turns out to be 0.91, we are now going to use Decision Tree which will further reduce the RMSLE score closer to 0."
   ]
  },
  {
   "cell_type": "code",
   "execution_count": 427,
   "id": "42a2e5a8-2813-4db6-b79a-18f24f15811a",
   "metadata": {},
   "outputs": [],
   "source": [
    "#Importing Decision Tree\n",
    "from sklearn.tree import DecisionTreeRegressor"
   ]
  },
  {
   "cell_type": "code",
   "execution_count": 428,
   "id": "b90f6013-668e-4360-9c8c-541b1a5d948d",
   "metadata": {},
   "outputs": [],
   "source": [
    "#Assigning Name to the DTR\n",
    "dt_reg = DecisionTreeRegressor()"
   ]
  },
  {
   "cell_type": "code",
   "execution_count": 429,
   "id": "e295c954-80e3-4247-9306-be5f641c43d0",
   "metadata": {},
   "outputs": [
    {
     "data": {
      "text/plain": [
       "DecisionTreeRegressor()"
      ]
     },
     "execution_count": 429,
     "metadata": {},
     "output_type": "execute_result"
    }
   ],
   "source": [
    "#Fitting training data\n",
    "dt_reg.fit(x_train,y_train)"
   ]
  },
  {
   "cell_type": "code",
   "execution_count": 430,
   "id": "a1a7dfbc-ef53-4ec4-b630-185750939e61",
   "metadata": {},
   "outputs": [],
   "source": [
    "#Predicting the validation data\n",
    "pred = dt_reg.predict(x_val)"
   ]
  },
  {
   "cell_type": "code",
   "execution_count": 431,
   "id": "dec0499a-dce1-4277-a35d-6ee95422d54b",
   "metadata": {},
   "outputs": [],
   "source": [
    "#Finding RMSLE score of the validation data\n",
    "dt_rmse_val=mean_squared_error(y_val,pred,squared=False)"
   ]
  },
  {
   "cell_type": "code",
   "execution_count": 432,
   "id": "dfea2d02-c795-4793-a94b-fbccbc83d8d7",
   "metadata": {},
   "outputs": [],
   "source": [
    "#Finding RMSLE score of training data\n",
    "dt_rmse_train = mean_squared_error(y_train,dt_reg.predict(x_train),squared= False)"
   ]
  },
  {
   "cell_type": "markdown",
   "id": "5dd01104-f31f-4068-a1fc-5ef3514f2c36",
   "metadata": {},
   "source": [
    "Now that we have trained our model using the Decision Tree Regressor and the RMSLE score is good i.e. close to 0 , we can make prediction on the \"test\" dataset. "
   ]
  },
  {
   "cell_type": "code",
   "execution_count": 434,
   "id": "e2dc2977-5636-4a90-b475-e050706d3eeb",
   "metadata": {},
   "outputs": [],
   "source": [
    "#Using trained Model in the test dataset\n",
    "test_pred = dt_reg.predict(test)"
   ]
  },
  {
   "cell_type": "code",
   "execution_count": 435,
   "id": "cc52ca2e-b6f1-4046-8539-4f9e280ad04f",
   "metadata": {},
   "outputs": [
    {
     "data": {
      "text/plain": [
       "array([4.06044301, 4.12713439, 3.13549422, ..., 4.49980967, 4.09434456,\n",
       "       3.8918203 ])"
      ]
     },
     "execution_count": 435,
     "metadata": {},
     "output_type": "execute_result"
    }
   ],
   "source": [
    "test_pred"
   ]
  },
  {
   "cell_type": "markdown",
   "id": "218bbc84-bb2a-4f56-a138-f116783db2e9",
   "metadata": {},
   "source": [
    "These are the Logged Values, so we have to convert them into the orignal values."
   ]
  },
  {
   "cell_type": "code",
   "execution_count": 436,
   "id": "636c3e36-6928-45f3-9db5-bb4cbdd1d41e",
   "metadata": {},
   "outputs": [],
   "source": [
    "#Converting Values to Orignal Scale\n",
    "test_pred_final = np.exp(test_pred)"
   ]
  },
  {
   "cell_type": "code",
   "execution_count": 437,
   "id": "7e30488a-d7dd-4405-bab0-08b0d347658e",
   "metadata": {},
   "outputs": [
    {
     "data": {
      "text/plain": [
       "array([58., 62., 23., ..., 90., 60., 49.])"
      ]
     },
     "execution_count": 437,
     "metadata": {},
     "output_type": "execute_result"
    }
   ],
   "source": [
    "test_pred_final"
   ]
  },
  {
   "cell_type": "markdown",
   "id": "ae319d27-7530-4e0f-b287-b74d4c3d9139",
   "metadata": {},
   "source": [
    "We have successfully predicted the values of the target variable in the \"test\" dataset which we will save into a csv file \"submission\"."
   ]
  },
  {
   "cell_type": "code",
   "execution_count": 441,
   "id": "cbb9a0af-eae0-4b21-ba1a-3e6a7fa2879e",
   "metadata": {},
   "outputs": [],
   "source": [
    "submission_ = pd.read_csv(\"submission.csv\")"
   ]
  },
  {
   "cell_type": "code",
   "execution_count": 443,
   "id": "ee9ed8f4-0173-4b8a-a281-992c0079341e",
   "metadata": {},
   "outputs": [
    {
     "data": {
      "text/html": [
       "<div>\n",
       "<style scoped>\n",
       "    .dataframe tbody tr th:only-of-type {\n",
       "        vertical-align: middle;\n",
       "    }\n",
       "\n",
       "    .dataframe tbody tr th {\n",
       "        vertical-align: top;\n",
       "    }\n",
       "\n",
       "    .dataframe thead th {\n",
       "        text-align: right;\n",
       "    }\n",
       "</style>\n",
       "<table border=\"1\" class=\"dataframe\">\n",
       "  <thead>\n",
       "    <tr style=\"text-align: right;\">\n",
       "      <th></th>\n",
       "      <th>count</th>\n",
       "    </tr>\n",
       "  </thead>\n",
       "  <tbody>\n",
       "    <tr>\n",
       "      <th>0</th>\n",
       "      <td>67.337495</td>\n",
       "    </tr>\n",
       "    <tr>\n",
       "      <th>1</th>\n",
       "      <td>67.337495</td>\n",
       "    </tr>\n",
       "    <tr>\n",
       "      <th>2</th>\n",
       "      <td>22.218489</td>\n",
       "    </tr>\n",
       "    <tr>\n",
       "      <th>3</th>\n",
       "      <td>14.518412</td>\n",
       "    </tr>\n",
       "    <tr>\n",
       "      <th>4</th>\n",
       "      <td>8.652763</td>\n",
       "    </tr>\n",
       "  </tbody>\n",
       "</table>\n",
       "</div>"
      ],
      "text/plain": [
       "       count\n",
       "0  67.337495\n",
       "1  67.337495\n",
       "2  22.218489\n",
       "3  14.518412\n",
       "4   8.652763"
      ]
     },
     "execution_count": 443,
     "metadata": {},
     "output_type": "execute_result"
    }
   ],
   "source": [
    "submission_.head()"
   ]
  },
  {
   "cell_type": "code",
   "execution_count": 444,
   "id": "14e2368d-102d-4375-9d09-c346e733102e",
   "metadata": {},
   "outputs": [],
   "source": [
    "submission_ = pd.DataFrame()"
   ]
  },
  {
   "cell_type": "code",
   "execution_count": 445,
   "id": "9f8b2341-cf76-44cb-acae-49b1935b16dd",
   "metadata": {},
   "outputs": [
    {
     "data": {
      "text/html": [
       "<div>\n",
       "<style scoped>\n",
       "    .dataframe tbody tr th:only-of-type {\n",
       "        vertical-align: middle;\n",
       "    }\n",
       "\n",
       "    .dataframe tbody tr th {\n",
       "        vertical-align: top;\n",
       "    }\n",
       "\n",
       "    .dataframe thead th {\n",
       "        text-align: right;\n",
       "    }\n",
       "</style>\n",
       "<table border=\"1\" class=\"dataframe\">\n",
       "  <thead>\n",
       "    <tr style=\"text-align: right;\">\n",
       "      <th></th>\n",
       "    </tr>\n",
       "  </thead>\n",
       "  <tbody>\n",
       "  </tbody>\n",
       "</table>\n",
       "</div>"
      ],
      "text/plain": [
       "Empty DataFrame\n",
       "Columns: []\n",
       "Index: []"
      ]
     },
     "execution_count": 445,
     "metadata": {},
     "output_type": "execute_result"
    }
   ],
   "source": [
    "submission_"
   ]
  },
  {
   "cell_type": "code",
   "execution_count": 446,
   "id": "ecf2ac31-6a47-426d-aebb-c8d0053150c0",
   "metadata": {},
   "outputs": [],
   "source": [
    "submission_[\"count\"] = test_pred_final"
   ]
  },
  {
   "cell_type": "code",
   "execution_count": 447,
   "id": "8d11f3f0-6f3b-4647-813f-c35fb3358d65",
   "metadata": {},
   "outputs": [
    {
     "data": {
      "text/html": [
       "<div>\n",
       "<style scoped>\n",
       "    .dataframe tbody tr th:only-of-type {\n",
       "        vertical-align: middle;\n",
       "    }\n",
       "\n",
       "    .dataframe tbody tr th {\n",
       "        vertical-align: top;\n",
       "    }\n",
       "\n",
       "    .dataframe thead th {\n",
       "        text-align: right;\n",
       "    }\n",
       "</style>\n",
       "<table border=\"1\" class=\"dataframe\">\n",
       "  <thead>\n",
       "    <tr style=\"text-align: right;\">\n",
       "      <th></th>\n",
       "      <th>count</th>\n",
       "    </tr>\n",
       "  </thead>\n",
       "  <tbody>\n",
       "    <tr>\n",
       "      <th>0</th>\n",
       "      <td>58.0</td>\n",
       "    </tr>\n",
       "    <tr>\n",
       "      <th>1</th>\n",
       "      <td>62.0</td>\n",
       "    </tr>\n",
       "    <tr>\n",
       "      <th>2</th>\n",
       "      <td>23.0</td>\n",
       "    </tr>\n",
       "    <tr>\n",
       "      <th>3</th>\n",
       "      <td>18.0</td>\n",
       "    </tr>\n",
       "    <tr>\n",
       "      <th>4</th>\n",
       "      <td>10.0</td>\n",
       "    </tr>\n",
       "    <tr>\n",
       "      <th>...</th>\n",
       "      <td>...</td>\n",
       "    </tr>\n",
       "    <tr>\n",
       "      <th>4394</th>\n",
       "      <td>120.0</td>\n",
       "    </tr>\n",
       "    <tr>\n",
       "      <th>4395</th>\n",
       "      <td>88.0</td>\n",
       "    </tr>\n",
       "    <tr>\n",
       "      <th>4396</th>\n",
       "      <td>90.0</td>\n",
       "    </tr>\n",
       "    <tr>\n",
       "      <th>4397</th>\n",
       "      <td>60.0</td>\n",
       "    </tr>\n",
       "    <tr>\n",
       "      <th>4398</th>\n",
       "      <td>49.0</td>\n",
       "    </tr>\n",
       "  </tbody>\n",
       "</table>\n",
       "<p>4399 rows × 1 columns</p>\n",
       "</div>"
      ],
      "text/plain": [
       "      count\n",
       "0      58.0\n",
       "1      62.0\n",
       "2      23.0\n",
       "3      18.0\n",
       "4      10.0\n",
       "...     ...\n",
       "4394  120.0\n",
       "4395   88.0\n",
       "4396   90.0\n",
       "4397   60.0\n",
       "4398   49.0\n",
       "\n",
       "[4399 rows x 1 columns]"
      ]
     },
     "execution_count": 447,
     "metadata": {},
     "output_type": "execute_result"
    }
   ],
   "source": [
    "submission_"
   ]
  },
  {
   "cell_type": "code",
   "execution_count": 450,
   "id": "149cfa65-5fb3-43e9-9318-794b86c6dde2",
   "metadata": {},
   "outputs": [],
   "source": [
    "submission_.to_csv(\"submission.csv\",header=True,index=False)"
   ]
  }
 ],
 "metadata": {
  "kernelspec": {
   "display_name": "Python 3 (ipykernel)",
   "language": "python",
   "name": "python3"
  },
  "language_info": {
   "codemirror_mode": {
    "name": "ipython",
    "version": 3
   },
   "file_extension": ".py",
   "mimetype": "text/x-python",
   "name": "python",
   "nbconvert_exporter": "python",
   "pygments_lexer": "ipython3",
   "version": "3.9.7"
  }
 },
 "nbformat": 4,
 "nbformat_minor": 5
}
